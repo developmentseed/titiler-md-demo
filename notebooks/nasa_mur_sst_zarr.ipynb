{
 "cells": [
  {
   "cell_type": "markdown",
   "metadata": {},
   "source": [
    "# Multi-Scale Ultra High Resolution (MUR) Sea Surface Temperature (SST)\n",
    "\n",
    "\n",
    "### Description\n",
    "\n",
    "A global, gap-free, gridded, daily 1 km Sea Surface Temperature (SST) dataset created by merging multiple Level-2 satellite SST datasets. Those input datasets include the NASA Advanced Microwave Scanning Radiometer-EOS (AMSR-E), the JAXA Advanced Microwave Scanning Radiometer 2 (AMSR-2) on GCOM-W1, the Moderate Resolution Imaging Spectroradiometers (MODIS) on the NASA Aqua and Terra platforms, the US Navy microwave WindSat radiometer, the Advanced Very High Resolution Radiometer (AVHRR) on several NOAA satellites, and in situ SST observations from the NOAA iQuam project. Data are available from 2002 to present in Zarr format. The original source of the MUR data is the NASA JPL Physical Oceanography DAAC.\n",
    "\n",
    "ref: https://registry.opendata.aws/mur/"
   ]
  },
  {
   "cell_type": "code",
   "execution_count": 2,
   "metadata": {},
   "outputs": [],
   "source": [
    "import httpx\n",
    "import json\n",
    "\n",
    "endpoint = \"https://t4z3zffpeh.execute-api.us-east-1.amazonaws.com/md\""
   ]
  },
  {
   "cell_type": "markdown",
   "metadata": {},
   "source": [
    "#### Variables\n",
    "\n",
    "Before we can `visualize` the dataset we HAVE TO get the list of available variables within the NetCDF file. For this we can use the `/variables` endpoint."
   ]
  },
  {
   "cell_type": "code",
   "execution_count": 6,
   "metadata": {},
   "outputs": [
    {
     "name": "stdout",
     "output_type": "stream",
     "text": [
      "['analysed_sst', 'analysis_error', 'mask', 'sea_ice_fraction']\n"
     ]
    }
   ],
   "source": [
    "resp = httpx.get(f\"{endpoint}/variables\", params={\"url\": \"s3://mur-sst/zarr-v1\"}, timeout=20)\n",
    "print(resp.json())"
   ]
  },
  {
   "cell_type": "markdown",
   "metadata": {},
   "source": [
    "### Dataset Info"
   ]
  },
  {
   "cell_type": "code",
   "execution_count": 17,
   "metadata": {},
   "outputs": [
    {
     "name": "stdout",
     "output_type": "stream",
     "text": [
      "{\n",
      "    \"bounds\": [\n",
      "        -179.99500549324037,\n",
      "        -89.99499786365084,\n",
      "        180.0050000000763,\n",
      "        89.99499786365084\n",
      "    ],\n",
      "    \"crs\": \"http://www.opengis.net/def/crs/EPSG/0/4326\",\n",
      "    \"band_metadata\": [\n",
      "        [\n",
      "            \"b1\",\n",
      "            {}\n",
      "        ]\n",
      "    ],\n",
      "    \"band_descriptions\": [\n",
      "        [\n",
      "            \"b1\",\n",
      "            \"value\"\n",
      "        ]\n",
      "    ],\n",
      "    \"dtype\": \"float64\",\n",
      "    \"nodata_type\": \"Nodata\",\n",
      "    \"name\": \"analysed_sst\",\n",
      "    \"count\": 1,\n",
      "    \"width\": 36000,\n",
      "    \"height\": 17999,\n",
      "    \"attrs\": {\n",
      "        \"comment\": \"\\\"Final\\\" version using Multi-Resolution Variational Analysis (MRVA) method for interpolation\",\n",
      "        \"long_name\": \"analysed sea surface temperature\",\n",
      "        \"standard_name\": \"sea_surface_foundation_temperature\",\n",
      "        \"units\": \"kelvin\",\n",
      "        \"valid_max\": 32767,\n",
      "        \"valid_min\": -32767\n",
      "    }\n",
      "}\n"
     ]
    }
   ],
   "source": [
    "resp = httpx.get(\n",
    "    f\"{endpoint}/info\",\n",
    "    params={\n",
    "        \"url\": \"s3://mur-sst/zarr-v1\",\n",
    "        \"variable\": \"analysed_sst\",\n",
    "        \"decode_times\": True,\n",
    "        \"show_times\": True,\n",
    "    },\n",
    "    timeout=20,\n",
    ")\n",
    "print(json.dumps(resp.json(), indent=4))"
   ]
  },
  {
   "cell_type": "markdown",
   "metadata": {},
   "source": [
    "### Map"
   ]
  },
  {
   "cell_type": "code",
   "execution_count": 25,
   "metadata": {},
   "outputs": [
    {
     "name": "stdout",
     "output_type": "stream",
     "text": [
      "{'tilejson': '2.2.0', 'version': '1.0.0', 'scheme': 'xyz', 'tiles': ['https://t4z3zffpeh.execute-api.us-east-1.amazonaws.com/md/tiles/WebMercatorQuad/{z}/{x}/{y}@1x?url=s3%3A%2F%2Fmur-sst%2Fzarr-v1&variable=analysed_sst&rescale=250%2C350&colormap_name=viridis'], 'minzoom': 0, 'maxzoom': 6, 'bounds': [-179.99500549324037, -89.99499786365084, 180.0050000000763, 89.99499786365084], 'center': [0.00499725341796875, 0.0, 0]}\n"
     ]
    },
    {
     "data": {
      "text/html": [
       "<div style=\"width:100%;\"><div style=\"position:relative;width:100%;height:0;padding-bottom:60%;\"><span style=\"color:#565656\">Make this Notebook Trusted to load map: File -> Trust Notebook</span><iframe srcdoc=\"&lt;!DOCTYPE html&gt;\n",
       "&lt;head&gt;    \n",
       "    &lt;meta http-equiv=&quot;content-type&quot; content=&quot;text/html; charset=UTF-8&quot; /&gt;\n",
       "    \n",
       "        &lt;script&gt;\n",
       "            L_NO_TOUCH = false;\n",
       "            L_DISABLE_3D = false;\n",
       "        &lt;/script&gt;\n",
       "    \n",
       "    &lt;style&gt;html, body {width: 100%;height: 100%;margin: 0;padding: 0;}&lt;/style&gt;\n",
       "    &lt;style&gt;#map {position:absolute;top:0;bottom:0;right:0;left:0;}&lt;/style&gt;\n",
       "    &lt;script src=&quot;https://cdn.jsdelivr.net/npm/leaflet@1.6.0/dist/leaflet.js&quot;&gt;&lt;/script&gt;\n",
       "    &lt;script src=&quot;https://code.jquery.com/jquery-1.12.4.min.js&quot;&gt;&lt;/script&gt;\n",
       "    &lt;script src=&quot;https://maxcdn.bootstrapcdn.com/bootstrap/3.2.0/js/bootstrap.min.js&quot;&gt;&lt;/script&gt;\n",
       "    &lt;script src=&quot;https://cdnjs.cloudflare.com/ajax/libs/Leaflet.awesome-markers/2.0.2/leaflet.awesome-markers.js&quot;&gt;&lt;/script&gt;\n",
       "    &lt;link rel=&quot;stylesheet&quot; href=&quot;https://cdn.jsdelivr.net/npm/leaflet@1.6.0/dist/leaflet.css&quot;/&gt;\n",
       "    &lt;link rel=&quot;stylesheet&quot; href=&quot;https://maxcdn.bootstrapcdn.com/bootstrap/3.2.0/css/bootstrap.min.css&quot;/&gt;\n",
       "    &lt;link rel=&quot;stylesheet&quot; href=&quot;https://maxcdn.bootstrapcdn.com/bootstrap/3.2.0/css/bootstrap-theme.min.css&quot;/&gt;\n",
       "    &lt;link rel=&quot;stylesheet&quot; href=&quot;https://maxcdn.bootstrapcdn.com/font-awesome/4.6.3/css/font-awesome.min.css&quot;/&gt;\n",
       "    &lt;link rel=&quot;stylesheet&quot; href=&quot;https://cdnjs.cloudflare.com/ajax/libs/Leaflet.awesome-markers/2.0.2/leaflet.awesome-markers.css&quot;/&gt;\n",
       "    &lt;link rel=&quot;stylesheet&quot; href=&quot;https://cdn.jsdelivr.net/gh/python-visualization/folium/folium/templates/leaflet.awesome.rotate.min.css&quot;/&gt;\n",
       "    \n",
       "            &lt;meta name=&quot;viewport&quot; content=&quot;width=device-width,\n",
       "                initial-scale=1.0, maximum-scale=1.0, user-scalable=no&quot; /&gt;\n",
       "            &lt;style&gt;\n",
       "                #map_fdc879cf31d80b61774e598daa108e81 {\n",
       "                    position: relative;\n",
       "                    width: 100.0%;\n",
       "                    height: 100.0%;\n",
       "                    left: 0.0%;\n",
       "                    top: 0.0%;\n",
       "                }\n",
       "            &lt;/style&gt;\n",
       "        \n",
       "&lt;/head&gt;\n",
       "&lt;body&gt;    \n",
       "    \n",
       "            &lt;div class=&quot;folium-map&quot; id=&quot;map_fdc879cf31d80b61774e598daa108e81&quot; &gt;&lt;/div&gt;\n",
       "        \n",
       "&lt;/body&gt;\n",
       "&lt;script&gt;    \n",
       "    \n",
       "            var map_fdc879cf31d80b61774e598daa108e81 = L.map(\n",
       "                &quot;map_fdc879cf31d80b61774e598daa108e81&quot;,\n",
       "                {\n",
       "                    center: [0.0, 0.00499725341796875],\n",
       "                    crs: L.CRS.EPSG3857,\n",
       "                    zoom: 6,\n",
       "                    zoomControl: true,\n",
       "                    preferCanvas: false,\n",
       "                }\n",
       "            );\n",
       "\n",
       "            \n",
       "\n",
       "        \n",
       "    \n",
       "            var tile_layer_1273b1aadacf5921a6247a46a6a8a205 = L.tileLayer(\n",
       "                &quot;https://{s}.tile.openstreetmap.org/{z}/{x}/{y}.png&quot;,\n",
       "                {&quot;attribution&quot;: &quot;Data by \\u0026copy; \\u003ca href=\\&quot;http://openstreetmap.org\\&quot;\\u003eOpenStreetMap\\u003c/a\\u003e, under \\u003ca href=\\&quot;http://www.openstreetmap.org/copyright\\&quot;\\u003eODbL\\u003c/a\\u003e.&quot;, &quot;detectRetina&quot;: false, &quot;maxNativeZoom&quot;: 18, &quot;maxZoom&quot;: 18, &quot;minZoom&quot;: 0, &quot;noWrap&quot;: false, &quot;opacity&quot;: 1, &quot;subdomains&quot;: &quot;abc&quot;, &quot;tms&quot;: false}\n",
       "            ).addTo(map_fdc879cf31d80b61774e598daa108e81);\n",
       "        \n",
       "    \n",
       "            var tile_layer_89b75fd3e3b33ac7f8705b4d71adc157 = L.tileLayer(\n",
       "                &quot;https://t4z3zffpeh.execute-api.us-east-1.amazonaws.com/md/tiles/WebMercatorQuad/{z}/{x}/{y}@1x?url=s3%3A%2F%2Fmur-sst%2Fzarr-v1\\u0026variable=analysed_sst\\u0026rescale=250%2C350\\u0026colormap_name=viridis&quot;,\n",
       "                {&quot;attribution&quot;: &quot;Noaa&quot;, &quot;detectRetina&quot;: false, &quot;maxNativeZoom&quot;: 6, &quot;maxZoom&quot;: 18, &quot;minNativeZoom&quot;: 6, &quot;minZoom&quot;: 0, &quot;noWrap&quot;: false, &quot;opacity&quot;: 1, &quot;subdomains&quot;: &quot;abc&quot;, &quot;tms&quot;: false}\n",
       "            ).addTo(map_fdc879cf31d80b61774e598daa108e81);\n",
       "        \n",
       "&lt;/script&gt;\" style=\"position:absolute;width:100%;height:100%;left:0;top:0;border:none !important;\" allowfullscreen webkitallowfullscreen mozallowfullscreen></iframe></div></div>"
      ],
      "text/plain": [
       "<folium.folium.Map at 0x115c70460>"
      ]
     },
     "execution_count": 25,
     "metadata": {},
     "output_type": "execute_result"
    }
   ],
   "source": [
    "from folium import Map, TileLayer\n",
    "\n",
    "r = httpx.get(\n",
    "    f\"{endpoint}/WebMercatorQuad/tilejson.json\",\n",
    "    params = {\n",
    "        \"url\": \"s3://mur-sst/zarr-v1\",\n",
    "        \"variable\": \"analysed_sst\",\n",
    "        \"rescale\": \"250,350\",  # We know the data is in kelvin\n",
    "        \"colormap_name\": \"viridis\",\n",
    "    },\n",
    "    timeout=20,\n",
    ").json()\n",
    "print(r)\n",
    "\n",
    "bounds = r[\"bounds\"]\n",
    "\n",
    "# The dataset is quite big so we MUST restrict to the higher zoom level (ZARR do not have overviews)\n",
    "maxzoom = r[\"maxzoom\"]\n",
    "\n",
    "m = Map(\n",
    "    location=((bounds[1] + bounds[3]) / 2,(bounds[0] + bounds[2]) / 2),\n",
    "    zoom_start=maxzoom\n",
    ")\n",
    "\n",
    "TileLayer(\n",
    "    tiles=r[\"tiles\"][0],\n",
    "    opacity=1,\n",
    "    attr=\"Noaa\",\n",
    "    min_native_zoom=maxzoom,\n",
    "    max_native_zoom=maxzoom,\n",
    ").add_to(m)\n",
    "\n",
    "m"
   ]
  },
  {
   "cell_type": "code",
   "execution_count": null,
   "metadata": {},
   "outputs": [],
   "source": []
  }
 ],
 "metadata": {
  "kernelspec": {
   "display_name": "py39",
   "language": "python",
   "name": "python3"
  },
  "language_info": {
   "codemirror_mode": {
    "name": "ipython",
    "version": 3
   },
   "file_extension": ".py",
   "mimetype": "text/x-python",
   "name": "python",
   "nbconvert_exporter": "python",
   "pygments_lexer": "ipython3",
   "version": "3.9.19"
  }
 },
 "nbformat": 4,
 "nbformat_minor": 2
}
