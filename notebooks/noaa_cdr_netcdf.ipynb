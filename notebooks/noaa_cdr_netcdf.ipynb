{
 "cells": [
  {
   "cell_type": "markdown",
   "metadata": {},
   "source": [
    "# NOAA Atmospheric Climate Data Records\n",
    "\n",
    "\n",
    "### Description\n",
    "NOAA's Climate Data Records (CDRs) are robust, sustainable, and scientifically sound climate records that provide trustworthy information on how, where, and to what extent the land, oceans, atmosphere and ice sheets are changing. These datasets are thoroughly vetted time series measurements with the longevity, consistency, and continuity to assess and measure climate variability and change. NOAA CDRs are vetted using standards established by the National Research Council (NRC).\n",
    "\n",
    "Climate Data Records are created by merging data from surface, atmosphere, and space-based systems across decades. NOAA’s Climate Data Records provides authoritative and traceable long-term climate records. NOAA developed CDRs by applying modern data analysis methods to historical global satellite data. This process can clarify the underlying climate trends within the data and allows researchers and other users to identify economic and scientific value in these records. NCEI maintains and extends CDRs by applying the same methods to present-day and future satellite measurements.\n",
    "\n",
    "Atmospheric Climate Data Records are measurements of several global variables to help characterize the atmosphere at or just above the land and ocean surface as well as other upper air composition variables.\n",
    "\n",
    "ref: https://registry.opendata.aws/noaa-cdr-atmospheric/"
   ]
  },
  {
   "cell_type": "code",
   "execution_count": 9,
   "metadata": {},
   "outputs": [],
   "source": [
    "import httpx\n",
    "import json\n",
    "\n",
    "endpoint = \"https://t4z3zffpeh.execute-api.us-east-1.amazonaws.com/md\""
   ]
  },
  {
   "cell_type": "markdown",
   "metadata": {},
   "source": [
    "#### Variables\n",
    "\n",
    "Before we can `visualize` the dataset we HAVE TO get the list of available variables within the NetCDF file. For this we can use the `/variables` endpoint."
   ]
  },
  {
   "cell_type": "code",
   "execution_count": 5,
   "metadata": {},
   "outputs": [
    {
     "name": "stdout",
     "output_type": "stream",
     "text": [
      "['precip']\n"
     ]
    }
   ],
   "source": [
    "resp = httpx.get(f\"{endpoint}/variables\", params={\"url\": \"s3://noaa-cdr-precip-gpcp-daily-pds/data/2023/gpcp_v01r03_daily_d20231231_c20240308.nc\"})\n",
    "print(resp.json())"
   ]
  },
  {
   "cell_type": "markdown",
   "metadata": {},
   "source": [
    "### Dataset Info"
   ]
  },
  {
   "cell_type": "code",
   "execution_count": 10,
   "metadata": {},
   "outputs": [
    {
     "name": "stdout",
     "output_type": "stream",
     "text": [
      "{\n",
      "    \"bounds\": [\n",
      "        -180.5,\n",
      "        -90.5,\n",
      "        179.5,\n",
      "        89.5\n",
      "    ],\n",
      "    \"crs\": \"http://www.opengis.net/def/crs/EPSG/0/4326\",\n",
      "    \"band_metadata\": [\n",
      "        [\n",
      "            \"b1\",\n",
      "            {}\n",
      "        ]\n",
      "    ],\n",
      "    \"band_descriptions\": [\n",
      "        [\n",
      "            \"b1\",\n",
      "            \"value\"\n",
      "        ]\n",
      "    ],\n",
      "    \"dtype\": \"float32\",\n",
      "    \"nodata_type\": \"None\",\n",
      "    \"name\": \"precip\",\n",
      "    \"count\": 1,\n",
      "    \"width\": 360,\n",
      "    \"height\": 180,\n",
      "    \"attrs\": {\n",
      "        \"long_name\": \"NOAA Climate Data Record (CDR) of Daily GPCP Satellite-Gauge Combined Precipitation\",\n",
      "        \"standard_name\": \"lwe_precipitation_rate\",\n",
      "        \"units\": \"mm/day\",\n",
      "        \"valid_range\": [\n",
      "            0.0,\n",
      "            100.0\n",
      "        ],\n",
      "        \"cell_methods\": \"area: mean time: mean\",\n",
      "        \"valid_min\": 0.0,\n",
      "        \"valid_max\": 100.0\n",
      "    }\n",
      "}\n"
     ]
    }
   ],
   "source": [
    "resp = httpx.get(\n",
    "    f\"{endpoint}/info\",\n",
    "    params={\n",
    "        \"url\": \"s3://noaa-cdr-precip-gpcp-daily-pds/data/2023/gpcp_v01r03_daily_d20231231_c20240308.nc\",\n",
    "        \"variable\": \"precip\"\n",
    "    }\n",
    ")\n",
    "print(json.dumps(resp.json(), indent=4))"
   ]
  },
  {
   "cell_type": "markdown",
   "metadata": {},
   "source": [
    "### Map"
   ]
  },
  {
   "cell_type": "code",
   "execution_count": 13,
   "metadata": {},
   "outputs": [
    {
     "data": {
      "text/html": [
       "<div style=\"width:100%;\"><div style=\"position:relative;width:100%;height:0;padding-bottom:60%;\"><span style=\"color:#565656\">Make this Notebook Trusted to load map: File -> Trust Notebook</span><iframe srcdoc=\"&lt;!DOCTYPE html&gt;\n",
       "&lt;head&gt;    \n",
       "    &lt;meta http-equiv=&quot;content-type&quot; content=&quot;text/html; charset=UTF-8&quot; /&gt;\n",
       "    \n",
       "        &lt;script&gt;\n",
       "            L_NO_TOUCH = false;\n",
       "            L_DISABLE_3D = false;\n",
       "        &lt;/script&gt;\n",
       "    \n",
       "    &lt;style&gt;html, body {width: 100%;height: 100%;margin: 0;padding: 0;}&lt;/style&gt;\n",
       "    &lt;style&gt;#map {position:absolute;top:0;bottom:0;right:0;left:0;}&lt;/style&gt;\n",
       "    &lt;script src=&quot;https://cdn.jsdelivr.net/npm/leaflet@1.6.0/dist/leaflet.js&quot;&gt;&lt;/script&gt;\n",
       "    &lt;script src=&quot;https://code.jquery.com/jquery-1.12.4.min.js&quot;&gt;&lt;/script&gt;\n",
       "    &lt;script src=&quot;https://maxcdn.bootstrapcdn.com/bootstrap/3.2.0/js/bootstrap.min.js&quot;&gt;&lt;/script&gt;\n",
       "    &lt;script src=&quot;https://cdnjs.cloudflare.com/ajax/libs/Leaflet.awesome-markers/2.0.2/leaflet.awesome-markers.js&quot;&gt;&lt;/script&gt;\n",
       "    &lt;link rel=&quot;stylesheet&quot; href=&quot;https://cdn.jsdelivr.net/npm/leaflet@1.6.0/dist/leaflet.css&quot;/&gt;\n",
       "    &lt;link rel=&quot;stylesheet&quot; href=&quot;https://maxcdn.bootstrapcdn.com/bootstrap/3.2.0/css/bootstrap.min.css&quot;/&gt;\n",
       "    &lt;link rel=&quot;stylesheet&quot; href=&quot;https://maxcdn.bootstrapcdn.com/bootstrap/3.2.0/css/bootstrap-theme.min.css&quot;/&gt;\n",
       "    &lt;link rel=&quot;stylesheet&quot; href=&quot;https://maxcdn.bootstrapcdn.com/font-awesome/4.6.3/css/font-awesome.min.css&quot;/&gt;\n",
       "    &lt;link rel=&quot;stylesheet&quot; href=&quot;https://cdnjs.cloudflare.com/ajax/libs/Leaflet.awesome-markers/2.0.2/leaflet.awesome-markers.css&quot;/&gt;\n",
       "    &lt;link rel=&quot;stylesheet&quot; href=&quot;https://cdn.jsdelivr.net/gh/python-visualization/folium/folium/templates/leaflet.awesome.rotate.min.css&quot;/&gt;\n",
       "    \n",
       "            &lt;meta name=&quot;viewport&quot; content=&quot;width=device-width,\n",
       "                initial-scale=1.0, maximum-scale=1.0, user-scalable=no&quot; /&gt;\n",
       "            &lt;style&gt;\n",
       "                #map_214b82f1c313275bbd2be995625f0dfc {\n",
       "                    position: relative;\n",
       "                    width: 100.0%;\n",
       "                    height: 100.0%;\n",
       "                    left: 0.0%;\n",
       "                    top: 0.0%;\n",
       "                }\n",
       "            &lt;/style&gt;\n",
       "        \n",
       "&lt;/head&gt;\n",
       "&lt;body&gt;    \n",
       "    \n",
       "            &lt;div class=&quot;folium-map&quot; id=&quot;map_214b82f1c313275bbd2be995625f0dfc&quot; &gt;&lt;/div&gt;\n",
       "        \n",
       "&lt;/body&gt;\n",
       "&lt;script&gt;    \n",
       "    \n",
       "            var map_214b82f1c313275bbd2be995625f0dfc = L.map(\n",
       "                &quot;map_214b82f1c313275bbd2be995625f0dfc&quot;,\n",
       "                {\n",
       "                    center: [-0.5, -0.5],\n",
       "                    crs: L.CRS.EPSG3857,\n",
       "                    zoom: 0,\n",
       "                    zoomControl: true,\n",
       "                    preferCanvas: false,\n",
       "                }\n",
       "            );\n",
       "\n",
       "            \n",
       "\n",
       "        \n",
       "    \n",
       "            var tile_layer_b51196dc983c286d025c7d6e42d371bf = L.tileLayer(\n",
       "                &quot;https://{s}.tile.openstreetmap.org/{z}/{x}/{y}.png&quot;,\n",
       "                {&quot;attribution&quot;: &quot;Data by \\u0026copy; \\u003ca href=\\&quot;http://openstreetmap.org\\&quot;\\u003eOpenStreetMap\\u003c/a\\u003e, under \\u003ca href=\\&quot;http://www.openstreetmap.org/copyright\\&quot;\\u003eODbL\\u003c/a\\u003e.&quot;, &quot;detectRetina&quot;: false, &quot;maxNativeZoom&quot;: 18, &quot;maxZoom&quot;: 18, &quot;minZoom&quot;: 0, &quot;noWrap&quot;: false, &quot;opacity&quot;: 1, &quot;subdomains&quot;: &quot;abc&quot;, &quot;tms&quot;: false}\n",
       "            ).addTo(map_214b82f1c313275bbd2be995625f0dfc);\n",
       "        \n",
       "    \n",
       "            var tile_layer_02387f0ebb06ecb6dde48626d3c99c93 = L.tileLayer(\n",
       "                &quot;https://t4z3zffpeh.execute-api.us-east-1.amazonaws.com/md/tiles/WebMercatorQuad/{z}/{x}/{y}@1x?url=s3%3A%2F%2Fnoaa-cdr-precip-gpcp-daily-pds%2Fdata%2F2023%2Fgpcp_v01r03_daily_d20231231_c20240308.nc\\u0026variable=precip\\u0026rescale=0%2C50\\u0026colormap_name=viridis&quot;,\n",
       "                {&quot;attribution&quot;: &quot;Noaa&quot;, &quot;detectRetina&quot;: false, &quot;maxNativeZoom&quot;: 18, &quot;maxZoom&quot;: 18, &quot;minZoom&quot;: 0, &quot;noWrap&quot;: false, &quot;opacity&quot;: 1, &quot;subdomains&quot;: &quot;abc&quot;, &quot;tms&quot;: false}\n",
       "            ).addTo(map_214b82f1c313275bbd2be995625f0dfc);\n",
       "        \n",
       "&lt;/script&gt;\" style=\"position:absolute;width:100%;height:100%;left:0;top:0;border:none !important;\" allowfullscreen webkitallowfullscreen mozallowfullscreen></iframe></div></div>"
      ],
      "text/plain": [
       "<folium.folium.Map at 0x106d94040>"
      ]
     },
     "execution_count": 13,
     "metadata": {},
     "output_type": "execute_result"
    }
   ],
   "source": [
    "from folium import Map, TileLayer\n",
    "\n",
    "r = httpx.get(\n",
    "    f\"{endpoint}/WebMercatorQuad/tilejson.json\",\n",
    "    params = {\n",
    "        \"url\": \"s3://noaa-cdr-precip-gpcp-daily-pds/data/2023/gpcp_v01r03_daily_d20231231_c20240308.nc\",\n",
    "        \"variable\": \"precip\",\n",
    "        \"rescale\": \"0,50\",\n",
    "        \"colormap_name\": \"viridis\",\n",
    "    }\n",
    ").json()\n",
    "\n",
    "bounds = r[\"bounds\"]\n",
    "minzoom = r[\"minzoom\"]\n",
    "\n",
    "m = Map(\n",
    "    location=((bounds[1] + bounds[3]) / 2,(bounds[0] + bounds[2]) / 2),\n",
    "    zoom_start=minzoom\n",
    ")\n",
    "\n",
    "TileLayer(\n",
    "    tiles=r[\"tiles\"][0],\n",
    "    opacity=1,\n",
    "    attr=\"Noaa\"\n",
    ").add_to(m)\n",
    "\n",
    "m"
   ]
  },
  {
   "cell_type": "code",
   "execution_count": null,
   "metadata": {},
   "outputs": [],
   "source": []
  }
 ],
 "metadata": {
  "kernelspec": {
   "display_name": "py39",
   "language": "python",
   "name": "python3"
  },
  "language_info": {
   "codemirror_mode": {
    "name": "ipython",
    "version": 3
   },
   "file_extension": ".py",
   "mimetype": "text/x-python",
   "name": "python",
   "nbconvert_exporter": "python",
   "pygments_lexer": "ipython3",
   "version": "3.9.19"
  }
 },
 "nbformat": 4,
 "nbformat_minor": 2
}
