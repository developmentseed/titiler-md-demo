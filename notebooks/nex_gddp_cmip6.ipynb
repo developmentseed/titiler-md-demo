{
 "cells": [
  {
   "cell_type": "markdown",
   "metadata": {},
   "source": [
    "# NASA Earth Exchange Global Daily Downscaled Projections (NEX-GDDP-CMIP6)\n",
    "\n",
    "\n",
    "### Description\n",
    "\n",
    "The NEX-GDDP-CMIP6 dataset is comprised of global downscaled climate scenarios derived from the General Circulation Model (GCM) runs conducted under the Coupled Model Intercomparison Project Phase 6 (CMIP6) and across two of the four \"Tier 1\" greenhouse gas emissions scenarios known as Shared Socioeconomic Pathways (SSPs). The CMIP6 GCM runs were developed in support of the Sixth Assessment Report of the Intergovernmental Panel on Climate Change (IPCC AR6). This dataset includes downscaled projections from ScenarioMIP model runs for which daily scenarios were produced and distributed through the Earth System Grid Federation. The purpose of this dataset is to provide a set of global, high resolution, bias-corrected climate change projections that can be used to evaluate climate change impacts on processes that are sensitive to finer-scale climate gradients and the effects of local topography on climate conditions.\n",
    "\n",
    "ref: https://registry.opendata.aws/nex-gddp-cmip6/"
   ]
  },
  {
   "cell_type": "code",
   "execution_count": 18,
   "metadata": {},
   "outputs": [],
   "source": [
    "import httpx\n",
    "import json\n",
    "\n",
    "endpoint = \"https://t4z3zffpeh.execute-api.us-east-1.amazonaws.com/md\""
   ]
  },
  {
   "cell_type": "markdown",
   "metadata": {},
   "source": [
    "#### Variables\n",
    "\n",
    "Before we can `visualize` the dataset we HAVE TO get the list of available variables within the NetCDF file. For this we can use the `/variables` endpoint."
   ]
  },
  {
   "cell_type": "code",
   "execution_count": 19,
   "metadata": {},
   "outputs": [
    {
     "name": "stdout",
     "output_type": "stream",
     "text": [
      "['huss']\n"
     ]
    }
   ],
   "source": [
    "resp = httpx.get(\n",
    "    f\"{endpoint}/variables\",\n",
    "    params={\n",
    "        \"url\": \"s3://nex-gddp-cmip6/NEX-GDDP-CMIP6/CESM2/historical/r4i1p1f1/huss/huss_day_CESM2_historical_r4i1p1f1_gn_2014.nc\",\n",
    "        \"decode_times\": True,\n",
    "    },\n",
    "    timeout=20,\n",
    ")\n",
    "print(resp.json())\n",
    "\n"
   ]
  },
  {
   "cell_type": "markdown",
   "metadata": {},
   "source": [
    "### Dimensions"
   ]
  },
  {
   "cell_type": "code",
   "execution_count": 29,
   "metadata": {},
   "outputs": [
    {
     "name": "stdout",
     "output_type": "stream",
     "text": [
      "{\n",
      "    \"time\": {\n",
      "        \"min\": \"2014-01-01 00:00:00\",\n",
      "        \"max\": \"2014-12-31 00:00:00\",\n",
      "        \"len\": 365\n",
      "    },\n",
      "    \"lat\": {\n",
      "        \"min\": \"-59.875\",\n",
      "        \"max\": \"89.875\",\n",
      "        \"len\": 600\n",
      "    },\n",
      "    \"lon\": {\n",
      "        \"min\": \"0.125\",\n",
      "        \"max\": \"359.875\",\n",
      "        \"len\": 1440\n",
      "    }\n",
      "}\n"
     ]
    }
   ],
   "source": [
    "resp = httpx.get(\n",
    "    f\"{endpoint}/dims\",\n",
    "    params={\n",
    "        \"url\": \"s3://nex-gddp-cmip6/NEX-GDDP-CMIP6/CESM2/historical/r4i1p1f1/huss/huss_day_CESM2_historical_r4i1p1f1_gn_2014.nc\",\n",
    "        \"variable\": \"huss\",\n",
    "        \"decode_times\": True,\n",
    "    },\n",
    "    timeout=20,\n",
    ")\n",
    "print(json.dumps(resp.json(), indent=4))"
   ]
  },
  {
   "cell_type": "markdown",
   "metadata": {},
   "source": [
    "### Dataset Info"
   ]
  },
  {
   "cell_type": "code",
   "execution_count": 21,
   "metadata": {},
   "outputs": [
    {
     "name": "stdout",
     "output_type": "stream",
     "text": [
      "{\n",
      "    \"bounds\": [\n",
      "        -180.0,\n",
      "        -60.0,\n",
      "        180.0,\n",
      "        90.0\n",
      "    ],\n",
      "    \"crs\": \"http://www.opengis.net/def/crs/EPSG/0/4326\",\n",
      "    \"band_metadata\": [\n",
      "        [\n",
      "            \"b1\",\n",
      "            {}\n",
      "        ]\n",
      "    ],\n",
      "    \"band_descriptions\": [\n",
      "        [\n",
      "            \"b1\",\n",
      "            \"value\"\n",
      "        ]\n",
      "    ],\n",
      "    \"dtype\": \"float32\",\n",
      "    \"nodata_type\": \"Nodata\",\n",
      "    \"name\": \"huss\",\n",
      "    \"count\": 1,\n",
      "    \"width\": 1440,\n",
      "    \"height\": 600,\n",
      "    \"attrs\": {\n",
      "        \"standard_name\": \"specific_humidity\",\n",
      "        \"long_name\": \"Near-Surface Specific Humidity\",\n",
      "        \"units\": \"1\",\n",
      "        \"cell_methods\": \"area: time: mean\",\n",
      "        \"comment\": \"Near-surface (usually, 2 meter) specific humidity.\",\n",
      "        \"description\": \"Near-surface (usually, 2 meter) specific humidity.\",\n",
      "        \"frequency\": \"day\",\n",
      "        \"id\": \"huss\",\n",
      "        \"mipTable\": \"day\",\n",
      "        \"out_name\": \"huss\",\n",
      "        \"prov\": \"day ((isd.003))\",\n",
      "        \"realm\": \"atmos\",\n",
      "        \"time_label\": \"time-mean\",\n",
      "        \"time_title\": \"Temporal mean\",\n",
      "        \"title\": \"Near-Surface Specific Humidity\",\n",
      "        \"type\": \"real\",\n",
      "        \"variable_id\": \"huss\"\n",
      "    }\n",
      "}\n"
     ]
    }
   ],
   "source": [
    "resp = httpx.get(\n",
    "    f\"{endpoint}/info\",\n",
    "    params={\n",
    "        \"url\": \"s3://nex-gddp-cmip6/NEX-GDDP-CMIP6/CESM2/historical/r4i1p1f1/huss/huss_day_CESM2_historical_r4i1p1f1_gn_2014.nc\",\n",
    "        \"variable\": \"huss\",\n",
    "        \"decode_times\": True,\n",
    "        \"datetime\": \"2014-12-31T00:00:00Z\"\n",
    "    },\n",
    "    timeout=20,\n",
    ")\n",
    "print(json.dumps(resp.json(), indent=4))"
   ]
  },
  {
   "cell_type": "markdown",
   "metadata": {},
   "source": [
    "### Map"
   ]
  },
  {
   "cell_type": "code",
   "execution_count": 31,
   "metadata": {},
   "outputs": [
    {
     "data": {
      "text/html": [
       "<div style=\"width:100%;\"><div style=\"position:relative;width:100%;height:0;padding-bottom:60%;\"><span style=\"color:#565656\">Make this Notebook Trusted to load map: File -> Trust Notebook</span><iframe srcdoc=\"&lt;!DOCTYPE html&gt;\n",
       "&lt;head&gt;    \n",
       "    &lt;meta http-equiv=&quot;content-type&quot; content=&quot;text/html; charset=UTF-8&quot; /&gt;\n",
       "    \n",
       "        &lt;script&gt;\n",
       "            L_NO_TOUCH = false;\n",
       "            L_DISABLE_3D = false;\n",
       "        &lt;/script&gt;\n",
       "    \n",
       "    &lt;style&gt;html, body {width: 100%;height: 100%;margin: 0;padding: 0;}&lt;/style&gt;\n",
       "    &lt;style&gt;#map {position:absolute;top:0;bottom:0;right:0;left:0;}&lt;/style&gt;\n",
       "    &lt;script src=&quot;https://cdn.jsdelivr.net/npm/leaflet@1.6.0/dist/leaflet.js&quot;&gt;&lt;/script&gt;\n",
       "    &lt;script src=&quot;https://code.jquery.com/jquery-1.12.4.min.js&quot;&gt;&lt;/script&gt;\n",
       "    &lt;script src=&quot;https://maxcdn.bootstrapcdn.com/bootstrap/3.2.0/js/bootstrap.min.js&quot;&gt;&lt;/script&gt;\n",
       "    &lt;script src=&quot;https://cdnjs.cloudflare.com/ajax/libs/Leaflet.awesome-markers/2.0.2/leaflet.awesome-markers.js&quot;&gt;&lt;/script&gt;\n",
       "    &lt;link rel=&quot;stylesheet&quot; href=&quot;https://cdn.jsdelivr.net/npm/leaflet@1.6.0/dist/leaflet.css&quot;/&gt;\n",
       "    &lt;link rel=&quot;stylesheet&quot; href=&quot;https://maxcdn.bootstrapcdn.com/bootstrap/3.2.0/css/bootstrap.min.css&quot;/&gt;\n",
       "    &lt;link rel=&quot;stylesheet&quot; href=&quot;https://maxcdn.bootstrapcdn.com/bootstrap/3.2.0/css/bootstrap-theme.min.css&quot;/&gt;\n",
       "    &lt;link rel=&quot;stylesheet&quot; href=&quot;https://maxcdn.bootstrapcdn.com/font-awesome/4.6.3/css/font-awesome.min.css&quot;/&gt;\n",
       "    &lt;link rel=&quot;stylesheet&quot; href=&quot;https://cdnjs.cloudflare.com/ajax/libs/Leaflet.awesome-markers/2.0.2/leaflet.awesome-markers.css&quot;/&gt;\n",
       "    &lt;link rel=&quot;stylesheet&quot; href=&quot;https://cdn.jsdelivr.net/gh/python-visualization/folium/folium/templates/leaflet.awesome.rotate.min.css&quot;/&gt;\n",
       "    \n",
       "            &lt;meta name=&quot;viewport&quot; content=&quot;width=device-width,\n",
       "                initial-scale=1.0, maximum-scale=1.0, user-scalable=no&quot; /&gt;\n",
       "            &lt;style&gt;\n",
       "                #map_78154250af135798ac7f2bc569a59169 {\n",
       "                    position: relative;\n",
       "                    width: 100.0%;\n",
       "                    height: 100.0%;\n",
       "                    left: 0.0%;\n",
       "                    top: 0.0%;\n",
       "                }\n",
       "            &lt;/style&gt;\n",
       "        \n",
       "&lt;/head&gt;\n",
       "&lt;body&gt;    \n",
       "    \n",
       "            &lt;div class=&quot;folium-map&quot; id=&quot;map_78154250af135798ac7f2bc569a59169&quot; &gt;&lt;/div&gt;\n",
       "        \n",
       "&lt;/body&gt;\n",
       "&lt;script&gt;    \n",
       "    \n",
       "            var map_78154250af135798ac7f2bc569a59169 = L.map(\n",
       "                &quot;map_78154250af135798ac7f2bc569a59169&quot;,\n",
       "                {\n",
       "                    center: [15.0, 0.0],\n",
       "                    crs: L.CRS.EPSG3857,\n",
       "                    zoom: 0,\n",
       "                    zoomControl: true,\n",
       "                    preferCanvas: false,\n",
       "                }\n",
       "            );\n",
       "\n",
       "            \n",
       "\n",
       "        \n",
       "    \n",
       "            var tile_layer_31cd067f08493791f9a7ac06ebbd6ccf = L.tileLayer(\n",
       "                &quot;https://{s}.tile.openstreetmap.org/{z}/{x}/{y}.png&quot;,\n",
       "                {&quot;attribution&quot;: &quot;Data by \\u0026copy; \\u003ca href=\\&quot;http://openstreetmap.org\\&quot;\\u003eOpenStreetMap\\u003c/a\\u003e, under \\u003ca href=\\&quot;http://www.openstreetmap.org/copyright\\&quot;\\u003eODbL\\u003c/a\\u003e.&quot;, &quot;detectRetina&quot;: false, &quot;maxNativeZoom&quot;: 18, &quot;maxZoom&quot;: 18, &quot;minZoom&quot;: 0, &quot;noWrap&quot;: false, &quot;opacity&quot;: 1, &quot;subdomains&quot;: &quot;abc&quot;, &quot;tms&quot;: false}\n",
       "            ).addTo(map_78154250af135798ac7f2bc569a59169);\n",
       "        \n",
       "    \n",
       "            var tile_layer_50f9ffe305dd1bd56a62210a2a1028aa = L.tileLayer(\n",
       "                &quot;https://t4z3zffpeh.execute-api.us-east-1.amazonaws.com/md/tiles/WebMercatorQuad/{z}/{x}/{y}@1x?url=s3%3A%2F%2Fnex-gddp-cmip6%2FNEX-GDDP-CMIP6%2FCESM2%2Fhistorical%2Fr4i1p1f1%2Fhuss%2Fhuss_day_CESM2_historical_r4i1p1f1_gn_2014.nc\\u0026variable=huss\\u0026decode_times=true\\u0026rescale=0%2C0.001\\u0026colormap_name=viridis\\u0026datetime=2014-12-31T00%3A00%3A00Z&quot;,\n",
       "                {&quot;attribution&quot;: &quot;NASA&quot;, &quot;detectRetina&quot;: false, &quot;maxNativeZoom&quot;: 18, &quot;maxZoom&quot;: 18, &quot;minNativeZoom&quot;: 0, &quot;minZoom&quot;: 0, &quot;noWrap&quot;: false, &quot;opacity&quot;: 1, &quot;subdomains&quot;: &quot;abc&quot;, &quot;tms&quot;: false}\n",
       "            ).addTo(map_78154250af135798ac7f2bc569a59169);\n",
       "        \n",
       "&lt;/script&gt;\" style=\"position:absolute;width:100%;height:100%;left:0;top:0;border:none !important;\" allowfullscreen webkitallowfullscreen mozallowfullscreen></iframe></div></div>"
      ],
      "text/plain": [
       "<folium.folium.Map at 0x119e24640>"
      ]
     },
     "execution_count": 31,
     "metadata": {},
     "output_type": "execute_result"
    }
   ],
   "source": [
    "from folium import Map, TileLayer\n",
    "\n",
    "r = httpx.get(\n",
    "    f\"{endpoint}/WebMercatorQuad/tilejson.json\",\n",
    "    params = {\n",
    "        \"url\": \"s3://nex-gddp-cmip6/NEX-GDDP-CMIP6/CESM2/historical/r4i1p1f1/huss/huss_day_CESM2_historical_r4i1p1f1_gn_2014.nc\",\n",
    "        \"variable\": \"huss\",\n",
    "        \"decode_times\": True,\n",
    "        \"rescale\": \"0,0.001\",\n",
    "        \"colormap_name\": \"viridis\",\n",
    "        \"datetime\": \"2014-12-31T00:00:00Z\"\n",
    "    },\n",
    "    timeout=20,\n",
    ").json()\n",
    "\n",
    "bounds = r[\"bounds\"]\n",
    "maxzoom = r[\"maxzoom\"]\n",
    "\n",
    "m = Map(\n",
    "    location=((bounds[1] + bounds[3]) / 2,(bounds[0] + bounds[2]) / 2),\n",
    "    zoom_start=maxzoom\n",
    ")\n",
    "\n",
    "TileLayer(\n",
    "    tiles=r[\"tiles\"][0],\n",
    "    opacity=1,\n",
    "    attr=\"NASA\",\n",
    "    min_native_zoom=maxzoom,\n",
    "    max_native_zoom=maxzoom,\n",
    ").add_to(m)\n",
    "\n",
    "m"
   ]
  },
  {
   "cell_type": "code",
   "execution_count": null,
   "metadata": {},
   "outputs": [],
   "source": []
  }
 ],
 "metadata": {
  "kernelspec": {
   "display_name": "py39",
   "language": "python",
   "name": "python3"
  },
  "language_info": {
   "codemirror_mode": {
    "name": "ipython",
    "version": 3
   },
   "file_extension": ".py",
   "mimetype": "text/x-python",
   "name": "python",
   "nbconvert_exporter": "python",
   "pygments_lexer": "ipython3",
   "version": "3.9.19"
  }
 },
 "nbformat": 4,
 "nbformat_minor": 2
}
